{
 "cells": [
  {
   "cell_type": "markdown",
   "metadata": {},
   "source": ["# Clasificación con SVM para Diagnóstico de Cáncer de Mama\n", "\n", "Este notebook implementa un modelo de Support Vector Machine (SVM) para clasificar tumores como malignos o benignos basado en características celulares."]
  },
  {
   "cell_type": "markdown",
   "metadata": {},
   "source": ["## Importar bibliotecas"]
  },
  {
   "cell_type": "code",
   "execution_count": null,
   "metadata": {},
   "outputs": [],
   "source": ["import pandas as pd\n", "import numpy as np\n", "import matplotlib.pyplot as plt\n", "import seaborn as sns\n", "from sklearn.model_selection import train_test_split, GridSearchCV\n", "from sklearn.preprocessing import StandardScaler\n", "from sklearn.svm import SVC\n", "from sklearn.metrics import accuracy_score, classification_report, confusion_matrix, roc_curve, auc\n", "from sklearn.decomposition import PCA\n", "import pickle"]
  },
  {
   "cell_type": "markdown",
   "metadata": {},
   "source": ["## Cargar los datos"]
  },
  {
   "cell_type": "code",
   "execution_count": null,
   "metadata": {},
   "outputs": [],
   "source": ["# Cargar los datos\n", "df = pd.read_csv('../data/breast-cancer.csv')\n", "\n", "# Exploración inicial\n", "print(\"Información del dataset:\")\n", "df.info()\n", "\n", "print(\"\\nDistribución de clases:\")\n", "print(df['diagnosis'].value_counts())"]
  },
  {
   "cell_type": "markdown",
   "metadata": {},
   "source": ["## Preparación de datos"]
  },
  {
   "cell_type": "code",
   "execution_count": null,
   "metadata": {},
   "outputs": [],
   "source": ["# Convertir la variable objetivo a numérica (M=1, B=0)\n", "df['diagnosis'] = df['diagnosis'].map({'M': 1, 'B': 0})\n", "\n", "# Eliminar la columna ID que no aporta información para la predicción\n", "df = df.drop('id', axis=1)\n", "\n", "# Separar características y variable objetivo\n", "X = df.drop('diagnosis', axis=1)\n", "y = df['diagnosis']\n", "\n", "# Dividir en conjuntos de entrenamiento y prueba\n", "X_train, X_test, y_train, y_test = train_test_split(X, y, test_size=0.2, random_state=42, stratify=y)\n", "\n", "# Escalar las características\n", "scaler = StandardScaler()\n", "X_train_scaled = scaler.fit_transform(X_train)\n", "X_test_scaled = scaler.transform(X_test)\n", "\n", "print(f'Tamaño del conjunto de entrenamiento: {X_train.shape[0]} muestras, {X_train.shape[1]} características')\n", "print(f'Tamaño del conjunto de prueba: {X_test.shape[0]} muestras, {X_test.shape[1]} características')"]
  },
  {
   "cell_type": "markdown",
   "metadata": {},
   "source": ["## Reducción de dimensionalidad con PCA"]
  },
  {
   "cell_type": "code",
   "execution_count": null,
   "metadata": {},
   "outputs": [],
   "source": ["# Aplicar PCA para reducir la dimensionalidad\n", "pca = PCA(n_components=2)\n", "X_train_pca = pca.fit_transform(X_train_scaled)\n", "X_test_pca = pca.transform(X_test_scaled)\n", "\n", "# Visualizar los datos después de aplicar PCA\n", "plt.figure(figsize=(10, 8))\n", "for i, target_name in enumerate(['Benigno', 'Maligno']):\n", "    plt.scatter(X_train_pca[y_train == i, 0], X_train_pca[y_train == i, 1], label=target_name)\n", "plt.title('Visualización de datos con PCA')\n", "plt.xlabel('Componente Principal 1')\n", "plt.ylabel('Componente Principal 2')\n", "plt.legend()\n", "plt.grid(True, alpha=0.3)\n", "plt.show()\n", "\n", "print(f'Varianza explicada por las dos componentes principales: {np.sum(pca.explained_variance_ratio_):.4f}')"]
  },
  {
   "cell_type": "markdown",
   "metadata": {},
   "source": ["## Optimización de hiperparámetros"]
  },
  {
   "cell_type": "code",
   "execution_count": null,
   "metadata": {},
   "outputs": [],
   "source": ["# Definir la cuadrícula de hiperparámetros\n", "param_grid = {\n", "    'C': [0.1, 1, 10, 100],\n", "    'gamma': [0.001, 0.01, 0.1, 1],\n", "    'kernel': ['rbf', 'linear']\n", "}\n", "\n", "# Crear el modelo base\n", "svm = SVC(probability=True, random_state=42)\n", "\n", "# Configurar la búsqueda de cuadrícula\n", "grid_search = GridSearchCV(svm, param_grid, cv=5, scoring='accuracy', n_jobs=-1)\n", "\n", "# Entrenar el modelo con búsqueda de cuadrícula\n", "grid_search.fit(X_train_scaled, y_train)\n", "\n", "# Obtener los mejores hiperparámetros\n", "print(\"Mejores hiperparámetros:\")\n", "print(grid_search.best_params_)\n", "\n", "# Obtener el mejor modelo\n", "best_svm = grid_search.best_estimator_"]
  },
  {
   "cell_type": "markdown",
   "metadata": {},
   "source": ["## Evaluación del modelo"]
  },
  {
   "cell_type": "code",
   "execution_count": null,
   "metadata": {},
   "outputs": [],
   "source": ["# Realizar predicciones\n", "y_pred = best_svm.predict(X_test_scaled)\n", "y_prob = best_svm.predict_proba(X_test_scaled)[:, 1]\n", "\n", "# Evaluar el modelo\n", "accuracy = accuracy_score(y_test, y_pred)\n", "print(f'Exactitud (Accuracy): {accuracy:.4f}')\n", "\n", "# Informe de clasificación\n", "print('\nInforme de clasificación:')\n", "print(classification_report(y_test, y_pred, target_names=['Benigno', 'Maligno']))\n", "\n", "# Matriz de confusión\n", "plt.figure(figsize=(8, 6))\n", "cm = confusion_matrix(y_test, y_pred)\n", "sns.heatmap(cm, annot=True, fmt='d', cmap='Blues', xticklabels=['Benigno', 'Maligno'], yticklabels=['Benigno', 'Maligno'])\n", "plt.title('Matriz de Confusión')\n", "plt.xlabel('Predicción')\n", "plt.ylabel('Valor Real')\n", "plt.savefig('../results/breast_cancer_svm_confusion_matrix.png')\n", "plt.show()"]
  },
  {
   "cell_type": "markdown",
   "metadata": {},
   "source": ["## Curva ROC"]
  },
  {
   "cell_type": "code",
   "execution_count": null,
   "metadata": {},
   "outputs": [],
   "source": ["# Calcular la curva ROC\n", "fpr, tpr, _ = roc_curve(y_test, y_prob)\n", "roc_auc = auc(fpr, tpr)\n", "\n", "# Visualizar la curva ROC\n", "plt.figure(figsize=(8, 6))\n", "plt.plot(fpr, tpr, color='darkorange', lw=2, label=f'Área bajo la curva = {roc_auc:.4f}')\n", "plt.plot([0, 1], [0, 1], color='navy', lw=2, linestyle='--')\n", "plt.xlim([0.0, 1.0])\n", "plt.ylim([0.0, 1.05])\n", "plt.xlabel('Tasa de Falsos Positivos')\n", "plt.ylabel('Tasa de Verdaderos Positivos')\n", "plt.title('Curva ROC')\n", "plt.legend(loc='lower right')\n", "plt.savefig('../results/breast_cancer_svm_roc_curve.png')\n", "plt.show()"]
  },
  {
   "cell_type": "markdown",
   "metadata": {},
   "source": ["## Visualización de la frontera de decisión"]
  },
  {
   "cell_type": "code",
   "execution_count": null,
   "metadata": {},
   "outputs": [],
   "source": ["# Entrenar un modelo SVM con los datos reducidos por PCA\n", "svm_pca = SVC(kernel=best_svm.kernel, C=best_svm.C, gamma=best_svm.gamma, probability=True, random_state=42)\n", "svm_pca.fit(X_train_pca, y_train)\n", "\n", "# Crear una malla para visualizar la frontera de decisión\n", "h = 0.02  # Tamaño del paso en la malla\n", "x_min, x_max = X_train_pca[:, 0].min() - 1, X_train_pca[:, 0].max() + 1\n", "y_min, y_max = X_train_pca[:, 1].min() - 1, X_train_pca[:, 1].max() + 1\n", "xx, yy = np.meshgrid(np.arange(x_min, x_max, h), np.arange(y_min, y_max, h))\n", "\n", "# Predecir la clase para cada punto en la malla\n", "Z = svm_pca.predict(np.c_[xx.ravel(), yy.ravel()])\n", "Z = Z.reshape(xx.shape)\n", "\n", "# Visualizar la frontera de decisión\n", "plt.figure(figsize=(10, 8))\n", "plt.contourf(xx, yy, Z, alpha=0.8, cmap=plt.cm.coolwarm)\n", "\n", "# Visualizar los puntos de entrenamiento\n", "for i, target_name in enumerate(['Benigno', 'Maligno']):\n", "    plt.scatter(X_train_pca[y_train == i, 0], X_train_pca[y_train == i, 1], label=target_name)\n", "\n", "plt.title('Frontera de Decisión SVM con PCA')\n", "plt.xlabel('Componente Principal 1')\n", "plt.ylabel('Componente Principal 2')\n", "plt.legend()\n", "plt.savefig('../results/breast_cancer_svm_decision_boundary.png')\n", "plt.show()"]
  },
  {
   "cell_type": "markdown",
   "metadata": {},
   "source": ["## Guardar el modelo"]
  },
  {
   "cell_type": "code",
   "execution_count": null,
   "metadata": {},
   "outputs": [],
   "source": ["# Guardar el modelo entrenado, el scaler y el PCA\n", "with open('../models/modelo_breast_cancer_svm.pkl', 'wb') as archivo:\n", "    pickle.dump(best_svm, archivo)\n", "\n", "with open('../models/scaler_breast_cancer_svm.pkl', 'wb') as archivo:\n", "    pickle.dump(scaler, archivo)\n", "\n", "with open('../models/pca_breast_cancer_svm.pkl', 'wb') as archivo:\n", "    pickle.dump(pca, archivo)\n", "\n", "print('Modelo, scaler y PCA guardados correctamente.')"]
  }
 ],
 "metadata": {
  "kernelspec": {
   "display_name": "Python 3",
   "language": "python",
   "name": "python3"
  },
  "language_info": {
   "codemirror_mode": {
    "name": "ipython",
    "version": 3
   },
   "file_extension": ".py",
   "mimetype": "text/x-python",
   "name": "python",
   "nbconvert_exporter": "python",
   "pygments_lexer": "ipython3",
   "version": "3.8.10"
  }
 },
 "nbformat": 4,
 "nbformat_minor": 4
}