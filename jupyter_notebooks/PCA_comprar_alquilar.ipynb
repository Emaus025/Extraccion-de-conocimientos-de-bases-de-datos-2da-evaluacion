{
 "cells": [
  {
   "cell_type": "markdown",
   "metadata": {},
   "source": [
    "# Análisis de Componentes Principales (PCA) para Decisiones Inmobiliarias\n",
    "\n",
    "Este notebook implementa un análisis de componentes principales (PCA) para reducir la dimensionalidad de variables que influyen en decisiones de compra vs. alquiler de inmuebles."
   ]
  },
  {
   "cell_type": "code",
   "execution_count": null,
   "metadata": {},
   "outputs": [],
   "source": [
    "import pandas as pd\n",
    "import numpy as np\n",
    "import matplotlib.pyplot as plt\n",
    "import seaborn as sns\n",
    "from sklearn.preprocessing import StandardScaler\n",
    "from sklearn.decomposition import PCA\n",
    "from sklearn.model_selection import train_test_split\n",
    "from sklearn.ensemble import RandomForestClassifier\n",
    "from sklearn.metrics import accuracy_score, classification_report, confusion_matrix\n",
    "\n",
    "# Configuración para visualizaciones\n",
    "plt.style.use('seaborn')\n",
    "sns.set(font_scale=1.2)\n",
    "plt.rcParams['figure.figsize'] = (12, 8)"
   ]
  },
  {
   "cell_type": "markdown",
   "metadata": {},
   "source": [
    "## Carga y Exploración de Datos"
   ]
  },
  {
   "cell_type": "code",
   "execution_count": null,
   "metadata": {},
   "outputs": [],
   "source": [
    "# Cargar los datos\n",
    "df = pd.read_csv('../data/comprar_alquilar.csv')\n",
    "\n",
    "# Exploración inicial\n",
    "print(\"Información del dataset:\")\n",
    "df.info()\n",
    "\n",
    "print(\"\\nEstadísticas descriptivas:\")\n",
    "df.describe()"
   ]
  },
  {
   "cell_type": "code",
   "execution_count": null,
   "metadata": {},
   "outputs": [],
   "source": [
    "# Visualizar la distribución de la variable objetivo\n",
    "plt.figure(figsize=(8, 6))\n",
    "sns.countplot(x='comprar', data=df)\n",
    "plt.title('Distribución de Decisiones: Comprar vs Alquilar')\n",
    "plt.xlabel('Decisión (0=Alquilar, 1=Comprar)')\n",
    "plt.ylabel('Cantidad')\n",
    "plt.show()"
   ]
  },
  {
   "cell_type": "code",
   "execution_count": null,
   "metadata": {},
   "outputs": [],
   "source": [
    "# Matriz de correlación\n",
    "plt.figure(figsize=(14, 10))\n",
    "correlation_matrix = df.corr()\n",
    "sns.heatmap(correlation_matrix, annot=True, cmap='coolwarm', fmt='.2f')\n",
    "plt.title('Matriz de Correlación')\n",
    "plt.savefig('../results/comprar_alquilar_correlation_matrix.png')\n",
    "plt.show()"
   ]
  },
  {
   "cell_type": "markdown",
   "metadata": {},
   "source": [
    "## Preparación de Datos y Aplicación de PCA"
   ]
  },
  {
   "cell_type": "code",
   "execution_count": null,
   "metadata": {},
   "outputs": [],
   "source": [
    "# Separar características y variable objetivo\n",
    "X = df.drop('comprar', axis=1)\n",
    "y = df['comprar']\n",
    "\n",
    "# Escalar las características\n",
    "scaler = StandardScaler()\n",
    "X_scaled = scaler.fit_transform(X)\n",
    "\n",
    "# Guardar el scaler para uso futuro\n",
    "import joblib\n",
    "joblib.dump(scaler, '../models/scaler_comprar_alquilar.pkl')"
   ]
  },
  {
   "cell_type": "code",
   "execution_count": null,
   "metadata": {},
   "outputs": [],
   "source": [
    "# Aplicar PCA\n",
    "pca = PCA()\n",
    "pca.fit(X_scaled)\n",
    "\n",
    "# Visualizar la varianza explicada acumulada\n",
    "explained_variance_ratio = pca.explained_variance_ratio_\n",
    "cumulative_variance_ratio = np.cumsum(explained_variance_ratio)\n",
    "\n",
    "plt.figure(figsize=(10, 6))\n",
    "plt.plot(range(1, len(cumulative_variance_ratio) + 1), cumulative_variance_ratio, marker='o', linestyle='-')\n",
    "plt.axhline(y=0.95, color='r', linestyle='--', label='95% de varianza explicada')\n",
    "plt.xlabel('Número de Componentes')\n",
    "plt.ylabel('Varianza Explicada Acumulada')\n",
    "plt.title('Varianza Explicada Acumulada vs. Número de Componentes')\n",
    "plt.grid(True)\n",
    "plt.legend()\n",
    "plt.savefig('../results/comprar_alquilar_varianza_acumulada.png')\n",
    "plt.show()\n",
    "\n",
    "# Determinar el número de componentes para explicar el 95% de la varianza\n",
    "n_components = np.argmax(cumulative_variance_ratio >= 0.95) + 1\n",
    "print(f\"\\nNúmero de componentes para explicar el 95% de la varianza: {n_components}\")"
   ]
  },
  {
   "cell_type": "code",
   "execution_count": null,
   "metadata": {},
   "outputs": [],
   "source": [
    "# Aplicar PCA con el número óptimo de componentes\n",
    "pca_optimal = PCA(n_components=n_components)\n",
    "X_pca = pca_optimal.fit_transform(X_scaled)\n",
    "\n",
    "# Guardar el modelo PCA\n",
    "joblib.dump(pca_optimal, '../models/modelo_pca_comprar_alquilar.pkl')"
   ]
  },
  {
   "cell_type": "markdown",
   "metadata": {},
   "source": [
    "## Visualización de Resultados del PCA"
   ]
  },
  {
   "cell_type": "code",
   "execution_count": null,
   "metadata": {},
   "outputs": [],
   "source": [
    "# Visualizar los datos en las dos primeras componentes principales\n",
    "plt.figure(figsize=(10, 8))\n",
    "sns.scatterplot(x=X_pca[:, 0], y=X_pca[:, 1], hue=y, palette='viridis', s=100, alpha=0.7)\n",
    "plt.title('Visualización de Datos en las Dos Primeras Componentes Principales')\n",
    "plt.xlabel('Componente Principal 1')\n",
    "plt.ylabel('Componente Principal 2')\n",
    "plt.legend(title='Comprar', labels=['Alquilar', 'Comprar'])\n",
    "plt.grid(True)\n",
    "plt.savefig('../results/comprar_alquilar_pca_visualization.png')\n",
    "plt.show()"
   ]
  },
  {
   "cell_type": "code",
   "execution_count": null,
   "metadata": {},
   "outputs": [],
   "source": [
    "# Analizar la contribución de cada característica a las componentes principales\n",
    "components = pd.DataFrame(\n",
    "    pca_optimal.components_,\n",
    "    columns=X.columns\n",
    ")\n",
    "\n",
    "plt.figure(figsize=(14, 10))\n",
    "sns.heatmap(components, annot=True, cmap='coolwarm', fmt='.2f')\n",
    "plt.title('Contribución de Características a las Componentes Principales')\n",
    "plt.xlabel('Características')\n",
    "plt.ylabel('Componentes Principales')\n",
    "plt.savefig('../results/comprar_alquilar_pca_components.png')\n",
    "plt.show()"
   ]
  },
  {
   "cell_type": "markdown",
   "metadata": {},
   "source": [
    "## Evaluación del Modelo con PCA"
   ]
  },
  {
   "cell_type": "code",
   "execution_count": null,
   "metadata": {},
   "outputs": [],
   "source": [
    "# Evaluar el rendimiento de un modelo con las componentes principales\n",
    "X_train, X_test, y_train, y_test = train_test_split(\n",
    "    X_pca, y, test_size=0.2, random_state=42, stratify=y\n",
    ")\n",
    "\n",
    "# Entrenar un modelo de clasificación\n",
    "rf = RandomForestClassifier(random_state=42)\n",
    "rf.fit(X_train, y_train)\n",
    "\n",
    "# Evaluar el modelo\n",
    "y_pred = rf.predict(X_test)\n",
    "accuracy = accuracy_score(y_test, y_pred)\n",
    "print(f\"\\nPrecisión del modelo con PCA: {accuracy:.4f}\")\n",
    "print(\"\\nInforme de clasificación:\")\n",
    "print(classification_report(y_test, y_pred))\n",
    "\n",
    "# Guardar el modelo Random Forest con PCA\n",
    "joblib.dump(rf, '../models/modelo_rf_pca_comprar_alquilar.pkl')"
   ]
  },
  {
   "cell_type": "code",
   "execution_count": null,
   "metadata": {},
   "outputs": [],
   "source": [
    "# Comparar con el modelo sin reducción de dimensionalidad\n",
    "X_original_train, X_original_test, y_original_train, y_original_test = train_test_split(\n",
    "    X_scaled, y, test_size=0.2, random_state=42, stratify=y\n",
    ")\n",
    "\n",
    "rf_original = RandomForestClassifier(random_state=42)\n",
    "rf_original.fit(X_original_train, y_original_train)\n",
    "\n",
    "y_original_pred = rf_original.predict(X_original_test)\n",
    "accuracy_original = accuracy_score(y_original_test, y_original_pred)\n",
    "\n",
    "print(f\"\\nPrecisión del modelo sin PCA: {accuracy_original:.4f}\")\n",
    "print(\"\\nInforme de clasificación sin PCA:\")\n",
    "print(classification_report(y_original_test, y_original_pred))\n",
    "\n",
    "print(f\"\\nDiferencia de precisión (PCA - Original): {accuracy - accuracy_original:.4f}\")"
   ]
  },
  {
   "cell_type": "markdown",
   "metadata": {},
   "source": [
    "## Conclusiones\n",
    "\n",
    "- El análisis de componentes principales (PCA) permitió reducir la dimensionalidad de los datos manteniendo el 95% de la varianza con solo [n] componentes.\n",
    "- La visualización de los datos en las dos primeras componentes principales muestra una clara separación entre las decisiones de compra y alquiler.\n",
    "- El modelo de Random Forest entrenado con las componentes principales logró una precisión comparable al modelo entrenado con todas las características originales, lo que demuestra la efectividad de la reducción de dimensionalidad.\n",
    "- Las características que más contribuyen a las primeras componentes principales son [completar con los resultados del análisis].\n",
    "- La reducción de dimensionalidad mediante PCA facilita la interpretación de los factores que influyen en las decisiones inmobiliarias y permite construir modelos más eficientes."
   ]
  }
 ],
 "metadata": {
  "kernelspec": {
   "display_name": "Python 3",
   "language": "python",
   "name": "python3"
  },
  "language_info": {
   "codemirror_mode": {
    "name": "ipython",
    "version": 3
   },
   "file_extension": ".py",
   "mimetype": "text/x-python",
   "name": "python",
   "nbconvert_exporter": "python",
   "pygments_lexer": "ipython3",
   "version": "3.8.10"
  }
 }
}