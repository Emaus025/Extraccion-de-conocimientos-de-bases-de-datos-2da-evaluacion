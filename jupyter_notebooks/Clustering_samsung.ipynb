{
 "cells": [
  {
   "cell_type": "markdown",
   "metadata": {},
   "source": [
    "# Análisis de Clustering para Datos de Acciones de Samsung\n",
    "\n",
    "Este notebook implementa un análisis de clustering utilizando K-means para identificar patrones en los datos de acciones de Samsung."
   ]
  },
  {
   "cell_type": "code",
   "execution_count": null,
   "metadata": {},
   "outputs": [],
   "source": [
    "import pandas as pd\n",
    "import numpy as np\n",
    "import matplotlib.pyplot as plt\n",
    "import seaborn as sns\n",
    "from sklearn.preprocessing import StandardScaler\n",
    "from sklearn.cluster import KMeans\n",
    "from sklearn.metrics import silhouette_score\n",
    "from sklearn.decomposition import PCA\n",
    "from datetime import datetime\n",
    "\n",
    "# Configuración para visualizaciones\n",
    "plt.style.use('seaborn')\n",
    "sns.set(font_scale=1.2)\n",
    "plt.rcParams['figure.figsize'] = (12, 8)"
   ]
  },
  {
   "cell_type": "markdown",
   "metadata": {},
   "source": [
    "## Carga y Preparación de Datos"
   ]
  },
  {
   "cell_type": "code",
   "execution_count": null,
   "metadata": {},
   "outputs": [],
   "source": [
    "# Cargar los datos\n",
    "df = pd.read_csv('../data/samsung.csv')\n",
    "\n",
    "# Convertir la columna de fecha a datetime\n",
    "df['Date'] = pd.to_datetime(df['Date'], format='%d/%m/%Y')\n",
    "\n",
    "# Exploración inicial\n",
    "print(\"Información del dataset:\")\n",
    "df.info()\n",
    "\n",
    "print(\"\\nEstadísticas descriptivas:\")\n",
    "df.describe()"
   ]
  },
  {
   "cell_type": "code",
   "execution_count": null,
   "metadata": {},
   "outputs": [],
   "source": [
    "# Visualizar la evolución temporal del precio de cierre\n",
    "plt.figure(figsize=(14, 6))\n",
    "plt.plot(df['Date'], df['Close'], marker='o', linestyle='-', alpha=0.7)\n",
    "plt.title('Evolución del Precio de Cierre de Samsung')\n",
    "plt.xlabel('Fecha')\n",
    "plt.ylabel('Precio de Cierre')\n",
    "plt.grid(True)\n",
    "plt.xticks(rotation=45)\n",
    "plt.tight_layout()\n",
    "plt.show()"
   ]
  },
  {
   "cell_type": "code",
   "execution_count": null,
   "metadata": {},
   "outputs": [],
   "source": [
    "# Crear características adicionales\n",
    "df['Year'] = df['Date'].dt.year\n",
    "df['Month'] = df['Date'].dt.month\n",
    "\n",
    "# Calcular características de tendencia\n",
    "df['Close_Lag1'] = df['Close'].shift(1)\n",
    "df['Volume_Lag1'] = df['Volume'].shift(1)\n",
    "df['Close_Change'] = df['Close'] - df['Close_Lag1']\n",
    "df['Volume_Change'] = df['Volume'] - df['Volume_Lag1']\n",
    "\n",
    "# Eliminar filas con NaN (primera fila)\n",
    "df = df.dropna()\n",
    "\n",
    "# Seleccionar características para clustering\n",
    "features = ['Close', 'Volume', 'Close_Change', 'Volume_Change']\n",
    "X = df[features]\n",
    "\n",
    "# Escalar las características\n",
    "scaler = StandardScaler()\n",
    "X_scaled = scaler.fit_transform(X)\n",
    "\n",
    "# Guardar el scaler para uso futuro\n",
    "import joblib\n",
    "joblib.dump(scaler, '../models/scaler_samsung.pkl')"
   ]
  },
  {
   "cell_type": "markdown",
   "metadata": {},
   "source": [
    "## Determinación del Número Óptimo de Clusters"
   ]
  },
  {
   "cell_type": "code",
   "execution_count": null,
   "metadata": {},
   "outputs": [],
   "source": [
    "# Determinar el número óptimo de clusters usando el método del codo\n",
    "inertia = []\n",
    "silhouette_scores = []\n",
    "k_range = range(2, 11)\n",
    "\n",
    "for k in k_range:\n",
    "    kmeans = KMeans(n_clusters=k, random_state=42, n_init=10)\n",
    "    kmeans.fit(X_scaled)\n",
    "    inertia.append(kmeans.inertia_)\n",
    "    silhouette_scores.append(silhouette_score(X_scaled, kmeans.labels_))\n",
    "\n",
    "# Visualizar el método del codo\n",
    "plt.figure(figsize=(12, 6))\n",
    "plt.plot(k_range, inertia, marker='o', linestyle='-')\n",
    "plt.xlabel('Número de Clusters')\n",
    "plt.ylabel('Inercia')\n",
    "plt.title('Método del Codo para Determinar el Número Óptimo de Clusters')\n",
    "plt.grid(True)\n",
    "plt.savefig('../results/samsung_elbow_method.png')\n",
    "plt.show()\n",
    "\n",
    "# Visualizar los puntajes de silueta\n",
    "plt.figure(figsize=(12, 6))\n",
    "plt.plot(k_range, silhouette_scores, marker='o', linestyle='-')\n",
    "plt.xlabel('Número de Clusters')\n",
    "plt.ylabel('Puntaje de Silueta')\n",
    "plt.title('Puntaje de Silueta para Diferentes Números de Clusters')\n",
    "plt.grid(True)\n",
    "plt.show()\n",
    "\n",
    "# Determinar el número óptimo de clusters\n",
    "optimal_k = k_range[np.argmax(silhouette_scores)]\n",
    "print(f\"Número óptimo de clusters según el puntaje de silueta: {optimal_k}\")"
   ]
  },
  {
   "cell_type": "markdown",
   "metadata": {},
   "source": [
    "## Aplicación de K-means con el Número Óptimo de Clusters"
   ]
  },
  {
   "cell_type": "code",
   "execution_count": null,
   "metadata": {},
   "outputs": [],
   "source": [
    "# Aplicar K-means con el número óptimo de clusters\n",
    "kmeans = KMeans(n_clusters=optimal_k, random_state=42, n_init=10)\n",
    "df['Cluster'] = kmeans.fit_predict(X_scaled)\n",
    "\n",
    "# Guardar el modelo K-means\n",
    "joblib.dump(kmeans, '../models/modelo_samsung_kmeans.pkl')\n",
    "\n",
    "# Guardar el dataset con los clusters asignados\n",
    "df.to_csv('../results/samsung_con_clusters.csv', index=False)"
   ]
  },
  {
   "cell_type": "markdown",
   "metadata": {},
   "source": [
    "## Visualización y Análisis de Clusters"
   ]
  },
  {
   "cell_type": "code",
   "execution_count": null,
   "metadata": {},
   "outputs": [],
   "source": [
    "# Visualizar los clusters en las características originales\n",
    "plt.figure(figsize=(12, 8))\n",
    "sns.scatterplot(x='Close', y='Volume', hue='Cluster', data=df, palette='viridis', s=100, alpha=0.7)\n",
    "plt.title('Clusters de Acciones de Samsung: Precio de Cierre vs Volumen')\n",
    "plt.xlabel('Precio de Cierre')\n",
    "plt.ylabel('Volumen')\n",
    "plt.grid(True)\n",
    "plt.show()"
   ]
  },
  {
   "cell_type": "code",
   "execution_count": null,
   "metadata": {},
   "outputs": [],
   "source": [
    "# Aplicar PCA para visualizar los clusters en 2D\n",
    "pca = PCA(n_components=2)\n",
    "X_pca = pca.fit_transform(X_scaled)\n",
    "\n",
    "# Crear un DataFrame con los resultados de PCA\n",
    "pca_df = pd.DataFrame(data=X_pca, columns=['PC1', 'PC2'])\n",
    "pca_df['Cluster'] = df['Cluster']\n",
    "\n",
    "# Visualizar los clusters en el espacio PCA\n",
    "plt.figure(figsize=(12, 8))\n",
    "sns.scatterplot(x='PC1', y='PC2', hue='Cluster', data=pca_df, palette='viridis', s=100, alpha=0.7)\n",
    "plt.title('Visualización de Clusters de Samsung en Espacio PCA')\n",
    "plt.xlabel('Componente Principal 1')\n",
    "plt.ylabel('Componente Principal 2')\n",
    "plt.grid(True)\n",
    "plt.savefig('../results/samsung_clusters_pca.png')\n",
    "plt.show()"
   ]
  },
  {
   "cell_type": "code",
   "execution_count": null,
   "metadata": {},
   "outputs": [],
   "source": [
    "# Visualizar la evolución temporal de los clusters\n",
    "plt.figure(figsize=(14, 8))\n",
    "sns.scatterplot(x='Date', y='Close', hue='Cluster', data=df, palette='viridis', s=100, alpha=0.7)\n",
    "plt.title('Evolución Temporal de Clusters de Samsung')\n",
    "plt.xlabel('Fecha')\n",
    "plt.ylabel('Precio de Cierre')\n",
    "plt.grid(True)\n",
    "plt.xticks(rotation=45)\n",
    "plt.tight_layout()\n",
    "plt.savefig('../results/samsung_temporal_clusters.png')\n",
    "plt.show()"
   ]
  },
  {
   "cell_type": "code",
   "execution_count": null,
   "metadata": {},
   "outputs": [],
   "source": [
    "# Analizar las características de cada cluster\n",
    "cluster_stats = df.groupby('Cluster')[features].mean()\n",
    "print(\"Estadísticas promedio por cluster:\")\n",
    "print(cluster_stats)\n",
    "\n",
    "# Visualizar el precio de cierre promedio por cluster\n",
    "plt.figure(figsize=(10, 6))\n",
    "cluster_stats['Close'].plot(kind='bar', color='skyblue')\n",
    "plt.title('Precio de Cierre Promedio por Cluster')\n",
    "plt.xlabel('Cluster')\n",
    "plt.ylabel('Precio de Cierre Promedio')\n",
    "plt.grid(True, axis='y')\n",
    "plt.savefig('../results/samsung_close_by_cluster.png')\n",
    "plt.show()"
   ]
  },
  {
   "cell_type": "markdown",
   "metadata": {},
   "source": [
    "## Interpretación de Resultados\n",
    "\n",
    "- El análisis de clustering con K-means identificó [optimal_k] patrones distintos en los datos de acciones de Samsung.\n",
    "- Cluster 1: [Descripción basada en los resultados, por ejemplo, 'Períodos de alto precio y bajo volumen']\n",
    "- Cluster 2: [Descripción]\n",
    "- Cluster 3: [Descripción]\n",
    "- La visualización temporal muestra que los clusters tienden a agruparse en períodos específicos, lo que sugiere cambios en el comportamiento del mercado a lo largo del tiempo.\n",
    "- Los resultados del clustering pueden ser útiles para estrategias de inversión, identificando patrones de comportamiento del mercado que podrían repetirse en el futuro."
   ]
  }
 ],
 "metadata": {
  "kernelspec": {
   "display_name": "Python 3",
   "language": "python",
   "name": "python3"
  },
  "language_info": {
   "codemirror_mode": {
    "name": "ipython",
    "version": 3
   },
   "file_extension": ".py",
   "mimetype": "text/x-python",
   "name": "python",
   "nbconvert_exporter": "python",
   "pygments_lexer": "ipython3",
   "version": "3.8.10"
  }
 }
}