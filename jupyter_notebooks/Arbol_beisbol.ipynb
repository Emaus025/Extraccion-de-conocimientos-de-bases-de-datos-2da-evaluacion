{
 "cells": [
  {
   "cell_type": "markdown",
   "metadata": {},
   "source": ["# Clasificación con Árbol de Decisión para Datos de Béisbol\n", "\n", "Este notebook implementa un modelo de árbol de decisión para clasificar equipos de béisbol según su rendimiento (alto, medio, bajo) basado en estadísticas de bateo."]
  },
  {
   "cell_type": "markdown",
   "metadata": {},
   "source": ["## Importar bibliotecas"]
  },
  {
   "cell_type": "code",
   "execution_count": null,
   "metadata": {},
   "outputs": [],
   "source": ["import pandas as pd\n", "import numpy as np\n", "import matplotlib.pyplot as plt\n", "import seaborn as sns\n", "from sklearn.model_selection import train_test_split, GridSearchCV\n", "from sklearn.preprocessing import StandardScaler\n", "from sklearn.tree import DecisionTreeClassifier, plot_tree\n", "from sklearn.metrics import accuracy_score, classification_report, confusion_matrix\n", "import pickle"]
  },
  {
   "cell_type": "markdown",
   "metadata": {},
   "source": ["## Cargar los datos"]
  },
  {
   "cell_type": "code",
   "execution_count": null,
   "metadata": {},
   "outputs": [],
   "source": ["# Cargar los datos\n", "df = pd.read_csv('../data/beisbol.csv')\n", "\n", "# Exploración inicial\n", "print(\"Información del dataset:\")\n", "df.info()\n", "\n", "print(\"\\nEstadísticas descriptivas:\")\n", "df.describe()"]
  },
  {
   "cell_type": "markdown",
   "metadata": {},
   "source": ["## Crear variable categórica"]
  },
  {
   "cell_type": "code",
   "execution_count": null,
   "metadata": {},
   "outputs": [],
   "source": ["# Crear una variable categórica basada en 'runs'\n", "# Clasificaremos los equipos en rendimiento alto, medio o bajo según sus carreras\n", "q_33 = df['runs'].quantile(0.33)\n", "q_66 = df['runs'].quantile(0.66)\n", "\n", "def categorize_runs(runs):\n", "    if runs <= q_33:\n", "        return 0  # Rendimiento bajo\n", "    elif runs <= q_66:\n", "        return 1  # Rendimiento medio\n", "    else:\n", "        return 2  # Rendimiento alto\n", "\n", "df['rendimiento'] = df['runs'].apply(categorize_runs)\n", "\n", "# Verificar la distribución de clases\n", "print(\"\\nDistribución de clases (rendimiento):\")\n", "print(df['rendimiento'].value_counts())\n", "\n", "# Visualizar la distribución de clases\n", "plt.figure(figsize=(8, 6))\n", "sns.countplot(x='rendimiento', data=df)\n", "plt.title('Distribución de Clases de Rendimiento')\n", "plt.xlabel('Clase de Rendimiento (0=Bajo, 1=Medio, 2=Alto)')\n", "plt.ylabel('Cantidad de Equipos')\n", "plt.savefig('../results/beisbol_distribucion_clases.png')\n", "plt.show()"]
  },
  {
   "cell_type": "markdown",
   "metadata": {},
   "source": ["## Visualización de datos"]
  },
  {
   "cell_type": "code",
   "execution_count": null,
   "metadata": {},
   "outputs": [],
   "source": ["# Visualizar la relación entre bateos y rendimiento\n", "plt.figure(figsize=(10, 6))\n", "sns.boxplot(x='rendimiento', y='bateos', data=df)\n", "plt.title('Bateos por Categoría de Rendimiento')\n", "plt.xlabel('Rendimiento (0=Bajo, 1=Medio, 2=Alto)')\n", "plt.ylabel('Bateos')\n", "plt.savefig('../results/beisbol_bateos_por_rendimiento.png')\n", "plt.show()"]
  },
  {
   "cell_type": "markdown",
   "metadata": {},
   "source": ["## Preparación de datos"]
  },
  {
   "cell_type": "code",
   "execution_count": null,
   "metadata": {},
   "outputs": [],
   "source": ["# Separar características y variable objetivo\n", "X = df[['bateos']]\n", "y = df['rendimiento']\n", "\n", "# Dividir en conjuntos de entrenamiento y prueba\n", "X_train, X_test, y_train, y_test = train_test_split(X, y, test_size=0.2, random_state=42, stratify=y)\n", "\n", "print(f'Tamaño del conjunto de entrenamiento: {X_train.shape[0]} muestras')\n", "print(f'Tamaño del conjunto de prueba: {X_test.shape[0]} muestras')"]
  },
  {
   "cell_type": "markdown",
   "metadata": {},
   "source": ["## Optimización de hiperparámetros"]
  },
  {
   "cell_type": "code",
   "execution_count": null,
   "metadata": {},
   "outputs": [],
   "source": ["# Definir la cuadrícula de hiperparámetros\n", "param_grid = {\n", "    'max_depth': [None, 3, 5, 7, 10],\n", "    'min_samples_split': [2, 5, 10],\n", "    'min_samples_leaf': [1, 2, 4],\n", "    'criterion': ['gini', 'entropy']\n", "}\n", "\n", "# Crear el modelo base\n", "tree = DecisionTreeClassifier(random_state=42)\n", "\n", "# Configurar la búsqueda de cuadrícula\n", "grid_search = GridSearchCV(tree, param_grid, cv=5, scoring='accuracy', n_jobs=-1)\n", "\n", "# Entrenar el modelo con búsqueda de cuadrícula\n", "grid_search.fit(X_train, y_train)\n", "\n", "# Obtener los mejores hiperparámetros\n", "print(\"Mejores hiperparámetros:\")\n", "print(grid_search.best_params_)\n", "\n", "# Obtener el mejor modelo\n", "best_tree = grid_search.best_estimator_"]
  },
  {
   "cell_type": "markdown",
   "metadata": {},
   "source": ["## Evaluación del modelo"]
  },
  {
   "cell_type": "code",
   "execution_count": null,
   "metadata": {},
   "outputs": [],
   "source": ["# Realizar predicciones\n", "y_pred = best_tree.predict(X_test)\n", "\n", "# Evaluar el modelo\n", "accuracy = accuracy_score(y_test, y_pred)\n", "print(f'Exactitud (Accuracy): {accuracy:.4f}')\n", "\n", "# Informe de clasificación\n", "print('\nInforme de clasificación:')\n", "print(classification_report(y_test, y_pred, target_names=['Bajo', 'Medio', 'Alto']))\n", "\n", "# Matriz de confusión\n", "plt.figure(figsize=(8, 6))\n", "cm = confusion_matrix(y_test, y_pred)\n", "sns.heatmap(cm, annot=True, fmt='d', cmap='Blues', xticklabels=['Bajo', 'Medio', 'Alto'], yticklabels=['Bajo', 'Medio', 'Alto'])\n", "plt.title('Matriz de Confusión')\n", "plt.xlabel('Predicción')\n", "plt.ylabel('Valor Real')\n", "plt.savefig('../results/beisbol_tree_confusion_matrix.png')\n", "plt.show()"]
  },
  {
   "cell_type": "markdown",
   "metadata": {},
   "source": ["## Visualización del árbol de decisión"]
  },
  {
   "cell_type": "code",
   "execution_count": null,
   "metadata": {},
   "outputs": [],
   "source": ["# Visualizar el árbol de decisión\n", "plt.figure(figsize=(15, 10))\n", "plot_tree(best_tree, filled=True, feature_names=['bateos'], class_names=['Bajo', 'Medio', 'Alto'], rounded=True, fontsize=10)\n", "plt.title('Árbol de Decisión para Clasificación de Rendimiento')\n", "plt.savefig('../results/beisbol_decision_tree.png')\n", "plt.show()"]
  },
  {
   "cell_type": "markdown",
   "metadata": {},
   "source": ["## Guardar el modelo"]
  },
  {
   "cell_type": "code",
   "execution_count": null,
   "metadata": {},
   "outputs": [],
   "source": ["# Guardar el modelo entrenado\n", "with open('../models/modelo_beisbol_tree.pkl', 'wb') as archivo:\n", "    pickle.dump(best_tree, archivo)\n", "\n", "print('Modelo guardado correctamente.')"]
  }
 ],
 "metadata": {
  "kernelspec": {
   "display_name": "Python 3",
   "language": "python",
   "name": "python3"
  },
  "language_info": {
   "codemirror_mode": {
    "name": "ipython",
    "version": 3
   },
   "file_extension": ".py",
   "mimetype": "text/x-python",
   "name": "python",
   "nbconvert_exporter": "python",
   "pygments_lexer": "ipython3",
   "version": "3.8.10"
  }
 },
 "nbformat": 4,
 "nbformat_minor": 4
}