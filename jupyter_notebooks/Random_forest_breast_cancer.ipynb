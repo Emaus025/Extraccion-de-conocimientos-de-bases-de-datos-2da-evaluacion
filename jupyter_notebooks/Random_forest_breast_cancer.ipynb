{
 "cells": [
  {
   "cell_type": "markdown",
   "metadata": {},
   "source": ["# Clasificación con Random Forest para Diagnóstico de Cáncer de Mama\n", "\n", "Este notebook implementa un modelo de Random Forest para clasificar tumores como malignos o benignos basado en características celulares."]
  },
  {
   "cell_type": "markdown",
   "metadata": {},
   "source": ["## Importar bibliotecas"]
  },
  {
   "cell_type": "code",
   "execution_count": null,
   "metadata": {},
   "outputs": [],
   "source": ["import pandas as pd\n", "import numpy as np\n", "import matplotlib.pyplot as plt\n", "import seaborn as sns\n", "from sklearn.model_selection import train_test_split, GridSearchCV\n", "from sklearn.preprocessing import StandardScaler\n", "from sklearn.ensemble import RandomForestClassifier\n", "from sklearn.metrics import accuracy_score, classification_report, confusion_matrix, roc_curve, auc\n", "from sklearn.feature_selection import SelectFromModel\n", "import pickle"]
  },
  {
   "cell_type": "markdown",
   "metadata": {},
   "source": ["## Cargar los datos"]
  },
  {
   "cell_type": "code",
   "execution_count": null,
   "metadata": {},
   "outputs": [],
   "source": ["# Cargar los datos\n", "df = pd.read_csv('../data/breast-cancer.csv')\n", "\n", "# Exploración inicial\n", "print(\"Información del dataset:\")\n", "df.info()\n", "\n", "print(\"\\nDistribución de clases:\")\n", "print(df['diagnosis'].value_counts())"]
  },
  {
   "cell_type": "markdown",
   "metadata": {},
   "source": ["## Preparación de datos"]
  },
  {
   "cell_type": "code",
   "execution_count": null,
   "metadata": {},
   "outputs": [],
   "source": ["# Convertir la variable objetivo a numérica (M=1, B=0)\n", "df['diagnosis'] = df['diagnosis'].map({'M': 1, 'B': 0})\n", "\n", "# Eliminar la columna ID que no aporta información para la predicción\n", "df = df.drop('id', axis=1)\n", "\n", "# Separar características y variable objetivo\n", "X = df.drop('diagnosis', axis=1)\n", "y = df['diagnosis']\n", "\n", "# Dividir en conjuntos de entrenamiento y prueba\n", "X_train, X_test, y_train, y_test = train_test_split(X, y, test_size=0.2, random_state=42, stratify=y)\n", "\n", "# Escalar las características\n", "scaler = StandardScaler()\n", "X_train_scaled = scaler.fit_transform(X_train)\n", "X_test_scaled = scaler.transform(X_test)\n", "\n", "print(f'Tamaño del conjunto de entrenamiento: {X_train.shape[0]} muestras, {X_train.shape[1]} características')\n", "print(f'Tamaño del conjunto de prueba: {X_test.shape[0]} muestras, {X_test.shape[1]} características')"]
  },
  {
   "cell_type": "markdown",
   "metadata": {},
   "source": ["## Optimización de hiperparámetros"]
  },
  {
   "cell_type": "code",
   "execution_count": null,
   "metadata": {},
   "outputs": [],
   "source": ["# Definir la cuadrícula de hiperparámetros\n", "param_grid = {\n", "    'n_estimators': [100, 200, 300],\n", "    'max_depth': [None, 10, 20, 30],\n", "    'min_samples_split': [2, 5, 10],\n", "    'min_samples_leaf': [1, 2, 4]\n", "}\n", "\n", "# Crear el modelo base\n", "rf = RandomForestClassifier(random_state=42)\n", "\n", "# Configurar la búsqueda de cuadrícula\n", "grid_search = GridSearchCV(rf, param_grid, cv=5, scoring='accuracy', n_jobs=-1)\n", "\n", "# Entrenar el modelo con búsqueda de cuadrícula\n", "grid_search.fit(X_train_scaled, y_train)\n", "\n", "# Obtener los mejores hiperparámetros\n", "print(\"Mejores hiperparámetros:\")\n", "print(grid_search.best_params_)\n", "\n", "# Obtener el mejor modelo\n", "best_rf = grid_search.best_estimator_"]
  },
  {
   "cell_type": "markdown",
   "metadata": {},
   "source": ["## Evaluación del modelo"]
  },
  {
   "cell_type": "code",
   "execution_count": null,
   "metadata": {},
   "outputs": [],
   "source": ["# Realizar predicciones\n", "y_pred = best_rf.predict(X_test_scaled)\n", "y_prob = best_rf.predict_proba(X_test_scaled)[:, 1]\n", "\n", "# Evaluar el modelo\n", "accuracy = accuracy_score(y_test, y_pred)\n", "print(f'Exactitud (Accuracy): {accuracy:.4f}')\n", "\n", "# Informe de clasificación\n", "print('\nInforme de clasificación:')\n", "print(classification_report(y_test, y_pred, target_names=['Benigno', 'Maligno']))\n", "\n", "# Matriz de confusión\n", "plt.figure(figsize=(8, 6))\n", "cm = confusion_matrix(y_test, y_pred)\n", "sns.heatmap(cm, annot=True, fmt='d', cmap='Blues', xticklabels=['Benigno', 'Maligno'], yticklabels=['Benigno', 'Maligno'])\n", "plt.title('Matriz de Confusión')\n", "plt.xlabel('Predicción')\n", "plt.ylabel('Valor Real')\n", "plt.savefig('../results/breast_cancer_confusion_matrix.png')\n", "plt.show()"]
  },
  {
   "cell_type": "markdown",
   "metadata": {},
   "source": ["## Curva ROC"]
  },
  {
   "cell_type": "code",
   "execution_count": null,
   "metadata": {},
   "outputs": [],
   "source": ["# Calcular la curva ROC\n", "fpr, tpr, _ = roc_curve(y_test, y_prob)\n", "roc_auc = auc(fpr, tpr)\n", "\n", "# Visualizar la curva ROC\n", "plt.figure(figsize=(8, 6))\n", "plt.plot(fpr, tpr, color='darkorange', lw=2, label=f'Área bajo la curva = {roc_auc:.4f}')\n", "plt.plot([0, 1], [0, 1], color='navy', lw=2, linestyle='--')\n", "plt.xlim([0.0, 1.0])\n", "plt.ylim([0.0, 1.05])\n", "plt.xlabel('Tasa de Falsos Positivos')\n", "plt.ylabel('Tasa de Verdaderos Positivos')\n", "plt.title('Curva ROC')\n", "plt.legend(loc='lower right')\n", "plt.savefig('../results/breast_cancer_roc_curve.png')\n", "plt.show()"]
  },
  {
   "cell_type": "markdown",
   "metadata": {},
   "source": ["## Importancia de características"]
  },
  {
   "cell_type": "code",
   "execution_count": null,
   "metadata": {},
   "outputs": [],
   "source": ["# Obtener la importancia de las características\n", "feature_importances = best_rf.feature_importances_\n", "\n", "# Crear un DataFrame para visualizar la importancia\n", "importance_df = pd.DataFrame({\n", "    'Característica': X.columns,\n", "    'Importancia': feature_importances\n", "}).sort_values('Importancia', ascending=False)\n", "\n", "# Visualizar la importancia de las características\n", "plt.figure(figsize=(12, 8))\n", "sns.barplot(x='Importancia', y='Característica', data=importance_df.head(15))\n", "plt.title('Top 15 Características Más Importantes')\n", "plt.tight_layout()\n", "plt.savefig('../results/breast_cancer_feature_importance.png')\n", "plt.show()"]
  },
  {
   "cell_type": "markdown",
   "metadata": {},
   "source": ["## Selección de características"]
  },
  {
   "cell_type": "code",
   "execution_count": null,
   "metadata": {},
   "outputs": [],
   "source": ["# Seleccionar características importantes\n", "selector = SelectFromModel(best_rf, threshold='median')\n", "X_train_selected = selector.fit_transform(X_train_scaled, y_train)\n", "X_test_selected = selector.transform(X_test_scaled)\n", "\n", "# Obtener las características seleccionadas\n", "selected_features = X.columns[selector.get_support()]\n", "print(f'Número de características seleccionadas: {len(selected_features)}')\n", "print('Características seleccionadas:')\n", "print(selected_features.tolist())"]
  },
  {
   "cell_type": "markdown",
   "metadata": {},
   "source": ["## Guardar el modelo"]
  },
  {
   "cell_type": "code",
   "execution_count": null,
   "metadata": {},
   "outputs": [],
   "source": ["# Guardar el modelo entrenado y el scaler\n", "with open('../models/modelo_breast_cancer.pkl', 'wb') as archivo:\n", "    pickle.dump(best_rf, archivo)\n", "\n", "with open('../models/scaler_breast_cancer.pkl', 'wb') as archivo:\n", "    pickle.dump(scaler, archivo)\n", "\n", "print('Modelo y scaler guardados correctamente.')"]
  }
 ],
 "metadata": {
  "kernelspec": {
   "display_name": "Python 3",
   "language": "python",
   "name": "python3"
  },
  "language_info": {
   "codemirror_mode": {
    "name": "ipython",
    "version": 3
   },
   "file_extension": ".py",
   "mimetype": "text/x-python",
   "name": "python",
   "nbconvert_exporter": "python",
   "pygments_lexer": "ipython3",
   "version": "3.8.10"
  }
 },
 "nbformat": 4,
 "nbformat_minor": 4
}