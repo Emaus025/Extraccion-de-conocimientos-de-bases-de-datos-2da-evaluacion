{
 "cells": [
  {
   "cell_type": "markdown",
   "metadata": {},
   "source": ["# Regresión Lineal para Datos de Béisbol\n", "\n", "Este notebook implementa un modelo de regresión lineal para predecir el número de carreras basado en estadísticas de bateo."]
  },
  {
   "cell_type": "markdown",
   "metadata": {},
   "source": ["## Importar bibliotecas"]
  },
  {
   "cell_type": "code",
   "execution_count": null,
   "metadata": {},
   "outputs": [],
   "source": ["import pandas as pd\n", "import numpy as np\n", "import matplotlib.pyplot as plt\n", "import seaborn as sns\n", "from sklearn.model_selection import train_test_split\n", "from sklearn.linear_model import LinearRegression\n", "from sklearn.metrics import mean_squared_error, r2_score\n", "import pickle"]
  },
  {
   "cell_type": "markdown",
   "metadata": {},
   "source": ["## Cargar los datos"]
  },
  {
   "cell_type": "code",
   "execution_count": null,
   "metadata": {},
   "outputs": [],
   "source": ["# Cargar los datos\n", "df = pd.read_csv('../data/beisbol.csv')\n", "\n", "# Exploración inicial\n", "print(\"Información del dataset:\")\n", "df.info()\n", "\n", "print(\"\\nEstadísticas descriptivas:\")\n", "df.describe()"]
  },
  {
   "cell_type": "markdown",
   "metadata": {},
   "source": ["## Visualización de datos"]
  },
  {
   "cell_type": "code",
   "execution_count": null,
   "metadata": {},
   "outputs": [],
   "source": ["# Visualizar la relación entre bateos y carreras\n", "plt.figure(figsize=(10, 6))\n", "plt.scatter(df['bateos'], df['runs'], alpha=0.7)\n", "plt.title('Relación entre Bateos y Carreras')\n", "plt.xlabel('Bateos')\n", "plt.ylabel('Carreras')\n", "plt.grid(True, alpha=0.3)\n", "plt.savefig('../results/beisbol_scatter.png')\n", "plt.show()"]
  },
  {
   "cell_type": "markdown",
   "metadata": {},
   "source": ["## Preparación de datos"]
  },
  {
   "cell_type": "code",
   "execution_count": null,
   "metadata": {},
   "outputs": [],
   "source": ["# Separar características y variable objetivo\n", "X = df[['bateos']]\n", "y = df['runs']\n", "\n", "# Dividir en conjuntos de entrenamiento y prueba\n", "X_train, X_test, y_train, y_test = train_test_split(X, y, test_size=0.2, random_state=42)\n", "\n", "print(f'Tamaño del conjunto de entrenamiento: {X_train.shape[0]} muestras')\n", "print(f'Tamaño del conjunto de prueba: {X_test.shape[0]} muestras')"]
  },
  {
   "cell_type": "markdown",
   "metadata": {},
   "source": ["## Entrenamiento del modelo"]
  },
  {
   "cell_type": "code",
   "execution_count": null,
   "metadata": {},
   "outputs": [],
   "source": ["# Crear y entrenar el modelo de regresión lineal\n", "modelo = LinearRegression()\n", "modelo.fit(X_train, y_train)\n", "\n", "# Coeficientes del modelo\n", "print(f'Intercepto: {modelo.intercept_:.4f}')\n", "print(f'Coeficiente para bateos: {modelo.coef_[0]:.4f}')"]
  },
  {
   "cell_type": "markdown",
   "metadata": {},
   "source": ["## Evaluación del modelo"]
  },
  {
   "cell_type": "code",
   "execution_count": null,
   "metadata": {},
   "outputs": [],
   "source": ["# Realizar predicciones\n", "y_pred = modelo.predict(X_test)\n", "\n", "# Evaluar el modelo\n", "mse = mean_squared_error(y_test, y_pred)\n", "r2 = r2_score(y_test, y_pred)\n", "\n", "print(f'Error cuadrático medio (MSE): {mse:.4f}')\n", "print(f'Coeficiente de determinación (R²): {r2:.4f}')"]
  },
  {
   "cell_type": "markdown",
   "metadata": {},
   "source": ["## Visualización de resultados"]
  },
  {
   "cell_type": "code",
   "execution_count": null,
   "metadata": {},
   "outputs": [],
   "source": ["# Visualizar la línea de regresión\n", "plt.figure(figsize=(10, 6))\n", "plt.scatter(X_test, y_test, color='blue', alpha=0.7, label='Datos reales')\n", "plt.plot(X_test, y_pred, color='red', linewidth=2, label='Línea de regresión')\n", "plt.title('Regresión Lineal: Bateos vs Carreras')\n", "plt.xlabel('Bateos')\n", "plt.ylabel('Carreras')\n", "plt.legend()\n", "plt.grid(True, alpha=0.3)\n", "plt.savefig('../results/beisbol_regresion.png')\n", "plt.show()"]
  },
  {
   "cell_type": "code",
   "execution_count": null,
   "metadata": {},
   "outputs": [],
   "source": ["# Visualizar residuos\n", "residuos = y_test - y_pred\n", "\n", "plt.figure(figsize=(10, 6))\n", "plt.scatter(y_pred, residuos, alpha=0.7)\n", "plt.axhline(y=0, color='r', linestyle='-')\n", "plt.title('Gráfico de Residuos')\n", "plt.xlabel('Valores Predichos')\n", "plt.ylabel('Residuos')\n", "plt.grid(True, alpha=0.3)\n", "plt.savefig('../results/beisbol_residuos.png')\n", "plt.show()"]
  },
  {
   "cell_type": "markdown",
   "metadata": {},
   "source": ["## Guardar el modelo"]
  },
  {
   "cell_type": "code",
   "execution_count": null,
   "metadata": {},
   "outputs": [],
   "source": ["# Guardar el modelo entrenado\n", "with open('../models/modelo_beisbol.pkl', 'wb') as archivo:\n", "    pickle.dump(modelo, archivo)\n", "\n", "print('Modelo guardado correctamente.')"]
  }
 ],
 "metadata": {
  "kernelspec": {
   "display_name": "Python 3",
   "language": "python",
   "name": "python3"
  },
  "language_info": {
   "codemirror_mode": {
    "name": "ipython",
    "version": 3
   },
   "file_extension": ".py",
   "mimetype": "text/x-python",
   "name": "python",
   "nbconvert_exporter": "python",
   "pygments_lexer": "ipython3",
   "version": "3.8.10"
  }
 },
 "nbformat": 4,
 "nbformat_minor": 4
}